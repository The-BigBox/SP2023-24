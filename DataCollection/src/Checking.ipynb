{
 "cells": [
  {
   "cell_type": "code",
   "execution_count": 11,
   "metadata": {},
   "outputs": [],
   "source": [
    "import os\n",
    "\n",
    "agents = []\n",
    "\n",
    "agents = os.listdir('/data1-8tb-blk/sp2023stock/Insight-Wave/DataCollection/data')\n",
    "agents.remove('zips')"
   ]
  },
  {
   "cell_type": "code",
   "execution_count": 20,
   "metadata": {},
   "outputs": [
    {
     "name": "stdout",
     "output_type": "stream",
     "text": [
      "Agent thunhoon has total of 88453\n",
      "Agent thairath has total of 618056\n",
      "Agent kaohoon has total of 266855\n",
      "Agent prachachat has total of 94539\n",
      "Agent thansettakij has total of 243953\n",
      "Agent daliynews has total of 505597\n",
      "505597\n"
     ]
    }
   ],
   "source": [
    "for agent in agents:\n",
    "    count = []\n",
    "    file_path = []\n",
    "    file_path = os.listdir(f'/data1-8tb-blk/sp2023stock/Insight-Wave/DataCollection/data/{agent}/article')\n",
    "    \n",
    "    count.append(int(len(file_path)))\n",
    "    print(f'Agent {agent} has total of {len(file_path)}')\n",
    "\n",
    "print(sum(count))"
   ]
  },
  {
   "cell_type": "code",
   "execution_count": 22,
   "metadata": {},
   "outputs": [
    {
     "name": "stdout",
     "output_type": "stream",
     "text": [
      "Agent thunhoon has total of 88454\n",
      "Agent thairath has total of 683470\n",
      "Agent kaohoon has total of 283202\n",
      "Agent prachachat has total of 108819\n",
      "Agent thansettakij has total of 243954\n",
      "Agent daliynews has total of 519011\n",
      "1926910\n"
     ]
    }
   ],
   "source": [
    "count = []\n",
    "for agent in agents:\n",
    "    file_path = []\n",
    "    file_path = os.listdir(f'/data1-8tb-blk/sp2023stock/Insight-Wave/DataCollection/data/{agent}/article')\n",
    "\n",
    "    count.append(int(len(file_path)))\n",
    "    print(f'Agent {agent} has total of {len(file_path)}')\n",
    "\n",
    "print(sum(count))"
   ]
  }
 ],
 "metadata": {
  "kernelspec": {
   "display_name": "Python 3",
   "language": "python",
   "name": "python3"
  },
  "language_info": {
   "codemirror_mode": {
    "name": "ipython",
    "version": 3
   },
   "file_extension": ".py",
   "mimetype": "text/x-python",
   "name": "python",
   "nbconvert_exporter": "python",
   "pygments_lexer": "ipython3",
   "version": "3.10.12"
  }
 },
 "nbformat": 4,
 "nbformat_minor": 2
}
