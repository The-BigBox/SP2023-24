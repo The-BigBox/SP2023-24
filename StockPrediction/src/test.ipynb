{
 "cells": [
  {
   "cell_type": "code",
   "execution_count": 30,
   "metadata": {},
   "outputs": [],
   "source": [
    "import pandas as pd\n",
    "import numpy as np\n",
    "\n",
    "val = pd.read_csv(\"../../../Insight-Wave/StockPrediction/data/Fundamental+Technical Data/STOCK_DATA_WEEKLY/ADVANC.csv\")\n",
    "predict = pd.read_csv(\"../../../Insight-Wave/StockPrediction/model/ADVANC/Fundamental+LDA News+LDA Twitter+GDELT V1/XGBModel_lags2_lags_past_covariates2_output_chunk_length1.csv\")\n",
    "val_df = val[['Close']].iloc[-35-35-1:-35]\n",
    "predict_df = predict[['Closing_Price']]"
   ]
  },
  {
   "cell_type": "code",
   "execution_count": 46,
   "metadata": {},
   "outputs": [
    {
     "data": {
      "text/plain": [
       "[52.94, 50.0, None, 50.0, None]"
      ]
     },
     "execution_count": 46,
     "metadata": {},
     "output_type": "execute_result"
    }
   ],
   "source": [
    "def calculate_directional_accuracy(actual, forecast):  \n",
    "    acc = 0\n",
    "    for i in range(len(forecast)):\n",
    "        actual_change = actual[i + 1] - actual[i]\n",
    "        predicted_change = forecast[i] - actual[i]\n",
    "        if (actual_change > 0 and predicted_change > 0) or (actual_change < 0 and predicted_change < 0) or (actual_change == 0 and predicted_change == 0):\n",
    "            acc += 1\n",
    "\n",
    "    da = round(acc / len(forecast) * 100, 2)\n",
    "    return da\n",
    "\n",
    "def calculate_directional_accuracy_with_thresholds(actual, forecast):\n",
    "    cal_case = [5, 10]\n",
    "    acc = 0\n",
    "    for i in range(len(forecast)):\n",
    "        actual_change = actual[i + 1] - actual[i]\n",
    "        predicted_change = forecast[i] - actual[i]\n",
    "        if (actual_change > 0 and predicted_change > 0) or \\\n",
    "        (actual_change < 0 and predicted_change < 0) or \\\n",
    "        (actual_change == 0 and predicted_change == 0):\n",
    "            acc += 1\n",
    "\n",
    "    results = round(acc / len(forecast) * 100, 2)\n",
    "    \n",
    "    return results\n",
    "\n",
    "def cal_err_and_acc(predicted, val, condition=True):\n",
    "\n",
    "    val.reset_index(drop=True, inplace=True)\n",
    "    predicted.reset_index(drop=True, inplace=True)\n",
    "\n",
    "    actual = val['Close']\n",
    "    forecast = predicted['Closing_Price']\n",
    "    \n",
    "    dir_acc = calculate_directional_accuracy_with_thresholds(actual, forecast) #calculate_directional_accuracy(actual, forecast)\n",
    "    \n",
    "    if condition:\n",
    "        return dir_acc\n",
    "    #else:\n",
    "        # print(f\"MAPE = {mape_error:.2f} %\")\n",
    "        # print(f\"RMSE = {rmse_error:.2f} %\\n\")\n",
    "        # print(f\"Directional Accuracy = {dir_acc:.2f} %\")\n",
    "\n",
    "try:\n",
    "    avg_dir = cal_err_and_acc(predict_df, val_df, True)\n",
    "except Exception as e:\n",
    "    print(\"Error when calculate error \", e)\n",
    "avg_dir"
   ]
  },
  {
   "cell_type": "code",
   "execution_count": null,
   "metadata": {},
   "outputs": [],
   "source": []
  }
 ],
 "metadata": {
  "kernelspec": {
   "display_name": "Python 3",
   "language": "python",
   "name": "python3"
  },
  "language_info": {
   "codemirror_mode": {
    "name": "ipython",
    "version": 3
   },
   "file_extension": ".py",
   "mimetype": "text/x-python",
   "name": "python",
   "nbconvert_exporter": "python",
   "pygments_lexer": "ipython3",
   "version": "3.10.12"
  }
 },
 "nbformat": 4,
 "nbformat_minor": 2
}
