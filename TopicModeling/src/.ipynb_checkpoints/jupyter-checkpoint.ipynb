{
 "cells": [
  {
   "cell_type": "code",
   "execution_count": 1,
   "metadata": {},
   "outputs": [],
   "source": [
    "import gensim\n",
    "from gensim.models import CoherenceModel\n",
    "from gensim.corpora import Dictionary, MmCorpus\n",
    "import matplotlib.pyplot as plt\n",
    "import os\n",
    "import time\n",
    "import json\n"
   ]
  },
  {
   "cell_type": "code",
   "execution_count": 2,
   "metadata": {},
   "outputs": [
    {
     "name": "stdout",
     "output_type": "stream",
     "text": [
      "Dataset loading - dictionary - corpus\n"
     ]
    }
   ],
   "source": [
    "# Set up the environment variable for JOBLIB\n",
    "os.environ['JOBLIB_TEMP_FOLDER'] = '/data1-6tb/sp2023stock/TopicModeling/data/temp'\n",
    "\n",
    "num_topics_list = [50, 100, 150, 200, 250, 300, 350, 400, 450, 500]\n",
    "total_passes = 500\n",
    "\n",
    "# Path to save the plot\n",
    "plot_save_path = '/data1-6tb/sp2023stock/TopicModeling/Model_Comparison.png'\n",
    "sample = 25\n",
    "\n",
    "print(\"Dataset loading - dictionary - corpus\")\n",
    "# Load the dictionary and corpus\n",
    "dictionary = Dictionary.load(f'/data1-6tb/sp2023stock/TopicModeling/model/ModelingAssets/CorpusDict{sample}/dictionary.gensim')\n",
    "corpus = MmCorpus(f'/data1-6tb/sp2023stock/TopicModeling/model/ModelingAssets/CorpusDict{sample}/corpus.mm')\n",
    "json_file_path = f'/data1-6tb/sp2023stock/TopicModeling/model/ModelingAssets/CorpusDict{sample}/dataset_{sample}.json'\n",
    "\n",
    "with open(json_file_path, 'r', encoding='utf-8') as json_file:\n",
    "    dataset = json.load(json_file)\n",
    "\n",
    "print(\"Dataset loaded - dictionary - corpus\")\n",
    "\n"
   ]
  },
  {
   "cell_type": "code",
   "execution_count": 6,
   "metadata": {},
   "outputs": [],
   "source": [
    "coherences_cv = []\n",
    "coherences_umass = []\n",
    "total_time = []"
   ]
  },
  {
   "cell_type": "code",
   "execution_count": 7,
   "metadata": {},
   "outputs": [
    {
     "name": "stdout",
     "output_type": "stream",
     "text": [
      "MmCorpus(506010 documents, 137788 features, 25186257 non-zero entries)\n"
     ]
    }
   ],
   "source": [
    "for topics in num_topics_list:\n",
    "    print(f'Starting evaluation for {topics} topics')\n",
    "    start_time = time.time()\n",
    "\n",
    "    # Initialize and train the LDA model\n",
    "    lda = gensim.models.ldamulticore.LdaMulticore(corpus=corpus, id2word=dictionary, num_topics=topics, random_state=42, passes=total_passes, workers = 4)\n",
    "\n",
    "    # Calculate coherence c_v\n",
    "    coherence_model_lda_cv = CoherenceModel(model=lda, texts=dataset, dictionary=dictionary, coherence='c_v')\n",
    "    coherence_lda_cv = coherence_model_lda_cv.get_coherence()\n",
    "    coherences_cv.append(coherence_lda_cv)\n",
    "\n",
    "    # Calculate coherence U_mass\n",
    "    coherence_model_lda_umass = CoherenceModel(model=lda, corpus=corpus, dictionary=dictionary, coherence='u_mass')\n",
    "    coherence_lda_umass = coherence_model_lda_umass.get_coherence()\n",
    "    coherences_umass.append(coherence_lda_umass)\n",
    "\n",
    "    print(f\"Topics: {topics}, Coherence c_v: {coherence_lda_cv}, Coherence u_mass: {coherence_lda_umass}\")\n",
    "\n",
    "    end_time = time.time()\n",
    "    time_taken = end_time - start_time\n",
    "    total_time.append(time_taken)\n",
    "    print(f\"Number of Topics: {topics}, Time taken: {time_taken} seconds\")\n",
    "\n",
    "\n"
   ]
  },
  {
   "cell_type": "code",
   "execution_count": null,
   "metadata": {},
   "outputs": [],
   "source": [
    "# Plotting the Coherence Scores\n",
    "plt.figure(figsize=(12, 5))\n",
    "\n",
    "plt.subplot(1, 2, 1)\n",
    "plt.plot(num_topics_list, coherences_cv, marker='o', color='b', label='c_v')\n",
    "plt.title('C_V Coherence Scores for Different Number of Topics')\n",
    "plt.xlabel('Number of Topics')\n",
    "plt.ylabel('Coherence Score (c_v)')\n",
    "\n",
    "plt.subplot(1, 2, 2)\n",
    "plt.plot(num_topics_list, coherences_umass, marker='o', color='r', label='u_mass')\n",
    "plt.title('U_Mass Coherence Scores for Different Number of Topics')\n",
    "plt.xlabel('Number of Topics')\n",
    "plt.ylabel('Coherence Score (u_mass)')\n",
    "plt.legend()\n",
    "\n",
    "plt.tight_layout()\n",
    "plt.savefig(plot_save_path)\n",
    "plt.show()\n",
    "\n",
    "print(\"Evaluation complete.\")"
   ]
  }
 ],
 "metadata": {
  "kernelspec": {
   "display_name": "venv",
   "language": "python",
   "name": "python3"
  },
  "language_info": {
   "codemirror_mode": {
    "name": "ipython",
    "version": 3
   },
   "file_extension": ".py",
   "mimetype": "text/x-python",
   "name": "python",
   "nbconvert_exporter": "python",
   "pygments_lexer": "ipython3",
   "version": "3.10.12"
  }
 },
 "nbformat": 4,
 "nbformat_minor": 2
}
