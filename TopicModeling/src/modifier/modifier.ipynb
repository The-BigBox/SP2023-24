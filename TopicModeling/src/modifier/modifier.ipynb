{
 "cells": [
  {
   "cell_type": "code",
   "execution_count": 30,
   "id": "53b03fb8-2325-44e5-84c9-12c953b892d1",
   "metadata": {},
   "outputs": [],
   "source": [
    "import pandas as pd\n",
    "import os"
   ]
  },
  {
   "cell_type": "code",
   "execution_count": 34,
   "id": "18817556-dea5-41c5-a97f-6f3e2bd3acc1",
   "metadata": {},
   "outputs": [],
   "source": [
    "main = os.getcwd() + '../'\n",
    "\n",
    "dateFile_p = main + '../data/rawDataset/news/dateonly.csv'\n",
    "labeled_topics_path = main + '../result/modelOutput/document_topics.csv'\n",
    "TopdocFile_p = main + '../result/modelOutput/labeled_topics.csv'"
   ]
  },
  {
   "cell_type": "markdown",
   "id": "c7af174e-6fba-4c65-a27e-58361c9d87f1",
   "metadata": {},
   "source": [
    "#### News"
   ]
  },
  {
   "cell_type": "code",
   "execution_count": 35,
   "id": "0829e205-8704-412f-9ca5-127df5dc10a8",
   "metadata": {},
   "outputs": [
    {
     "name": "stdout",
     "output_type": "stream",
     "text": [
      "Date File = 1156987, Data File = 1156987\n",
      " Merged data = 1156987\n"
     ]
    }
   ],
   "source": [
    "df1 = pd.read_csv(dateFile_p)\n",
    "df2 = pd.read_csv(TopdocFile_p)\n",
    "\n",
    "print(f\"Date File = {len(df1)}, Data File = {len(df2)}\")\n",
    "\n",
    "df_merged = pd.concat([df1, df2], axis=1)\n",
    "df_merged.drop(['ID', 'Agency'], axis=1, inplace=True)\n",
    "\n",
    "print(f\" Merged data = {len(df_merged)}\")"
   ]
  },
  {
   "cell_type": "markdown",
   "id": "f4999122-f65f-4d43-b53f-076acdef8fc7",
   "metadata": {},
   "source": [
    "##### Economic Filtered\n",
    "(เลือกข่าวเฉพาะที่มี labeled topic มาใช้)42"
   ]
  },
  {
   "cell_type": "code",
   "execution_count": 29,
   "id": "559a9ee7-0871-4ddb-a1f4-4ef937c0e121",
   "metadata": {},
   "outputs": [],
   "source": [
    "import pandas as pd\n",
    "\n",
    "df = pd.read_csv(TopdocFile_p)\n",
    "datedf = pd.read_csv(dateFile_p)\n",
    "labeled_topics_df = pd.read_csv(labeled_topics_path)\n",
    "labeled_topics = labeled_topics_df ['Topic'].tolist()\n",
    "\n",
    "\n",
    "# Define a function to find the top 10 topics per row\n",
    "def find_top_10_topics(row):\n",
    "    top_10 = row.nlargest(10)\n",
    "    return pd.Series([top_10.index.tolist(), top_10.values.tolist()], index=['Top_10_Topics', 'Top_10_Values'])\n",
    "\n",
    "# Apply the function and organize the resulting top topics\n",
    "top_10_df = docs_df.apply(find_top_10_topics, axis=1)\n",
    "dynamic_columns = [f'Top_{i+1}' for i in range(10)]  # Adjusted for top 10\n",
    "top_10_topics_df = pd.DataFrame(top_10_df['Top_10_Topics'].tolist(), columns=dynamic_columns)\n",
    "\n",
    "# Merge the dates and top topics, then filter by labeled topics\n",
    "merged_df = pd.concat([dates_df, top_10_topics_df], axis=1)\n",
    "merged_df['ECON'] = merged_df.apply(lambda row: any(row.get(f'Top_{i}', None) in labeled_topics for i in range(1, 11)), axis=1)\n",
    "filtered_df = merged_df[['ID', 'Agency', 'Date', 'ECON']]\n",
    "complete_df = pd.concat([filtered_df, docs_df], axis=1)\n",
    "\n",
    "# Set non-ECON topics to zero\n",
    "topic_columns = [col for col in complete_df.columns if col.startswith('Topic_')]\n",
    "complete_df.loc[complete_df['ECON'] == False, topic_columns] = 0\n",
    "complete_df.drop(['ECON', 'ID'], axis=1, inplace=True)\n",
    "\n",
    "# Group by Date and summarize topic distributions\n",
    "result = complete_df.groupby('Date').sum(numeric_only=True).reset_index()\n",
    "result['Date'] = pd.to_datetime(result['Date']).dt.date\n",
    "\n",
    "# Prepare date range for reindexing\n",
    "start_date, end_date = pd.to_datetime('2015-03-01').date(), pd.to_datetime('2023-12-31').date()\n",
    "all_dates = pd.date_range(start_date, end_date).date\n",
    "\n",
    "# Reindex and fill missing dates with zeros\n",
    "result.set_index('Date', inplace=True)\n",
    "result = result.reindex(pd.to_datetime(all_dates), fill_value=0)\n",
    "result.reset_index(inplace=True)\n",
    "result.rename(columns={'index': 'Date'}, inplace=True)\n",
    "result['Date'] = result['Date'].dt.date\n",
    "result = result.round(8)\n",
    "\n",
    "# Save to CSV\n",
    "result.to_csv('path/to/output/filtered_news.csv', index=False)"
   ]
  },
  {
   "cell_type": "code",
   "execution_count": 30,
   "id": "c32688dc-f2a3-41c8-9c8a-3110661683f5",
   "metadata": {},
   "outputs": [],
   "source": [
    "import pandas as pd\n",
    "\n",
    "df = pd.read_csv('E:/sp2023stock/TopicModeling/result/integrationOutput/Mic/filtered_news.csv')\n",
    "\n",
    "labeled_topics_df = pd.read_csv(labeled_topics_path)\n",
    "labeled_topics_list = labeled_topics_df ['Topic'].tolist()\n",
    "\n",
    "selected_columns = ['Date'] + [col for col in df.columns if col in labeled_topics_list]\n",
    "filtered_df = df[selected_columns]\n",
    "\n",
    "filtered_df.to_csv('E:/sp2023stock/TopicModeling/result/integrationOutput/Mic/filtered_news_selected.csv', index=False)\n"
   ]
  },
  {
   "cell_type": "code",
   "execution_count": 31,
   "id": "adb4aa8d-d7fb-4b57-a85d-f7e1929e6405",
   "metadata": {},
   "outputs": [],
   "source": [
    "import pandas as pd\n",
    "\n",
    "df = pd.read_csv('E:/sp2023stock/TopicModeling/result/integrationOutput/Mic/news.csv')\n",
    "\n",
    "labeled_topics_df = pd.read_csv(labeled_topics_path)\n",
    "labeled_topics_list = labeled_topics_df ['Topic'].tolist()\n",
    "\n",
    "selected_columns = ['Date'] + [col for col in df.columns if col in labeled_topics_list]\n",
    "filtered_df = df[selected_columns]\n",
    "\n",
    "filtered_df.to_csv('E:/sp2023stock/TopicModeling/result/integrationOutput/Mic/news_selected.csv', index=False)\n"
   ]
  },
  {
   "cell_type": "code",
   "execution_count": 32,
   "id": "e45c8cec-8e97-4541-b5f0-0d21eb135cac",
   "metadata": {},
   "outputs": [
    {
     "name": "stdout",
     "output_type": "stream",
     "text": [
      "Finished\n"
     ]
    }
   ],
   "source": [
    "print(\"Finished\")"
   ]
  },
  {
   "cell_type": "markdown",
   "id": "6e4c691b-e7dc-4668-ae23-d4124e59a354",
   "metadata": {},
   "source": [
    "##### GDELT"
   ]
  },
  {
   "cell_type": "code",
   "execution_count": null,
   "id": "813f472f-e7c9-4a5e-b735-f7b9855b2832",
   "metadata": {},
   "outputs": [],
   "source": [
    "import pandas as pd\n",
    "\n",
    "# Path to your CSV file\n",
    "csv_file_path = 'E:/sp2023stock/TopicModeling/data/GDELT/GDELT2.csv'\n",
    "gdelt_v1_df = pd.read_csv(csv_file_path)\n",
    "\n",
    "gdelt_v1_df['Date'] = pd.to_datetime(gdelt_v1_df['Date'], format='%Y%m%d')\n",
    "# Convert back to a string in the new format\n",
    "gdelt_v1_df['Date'] = gdelt_v1_df['Date'].dt.strftime('%Y-%m-%d')\n",
    "gdelt_v1_df.fillna(0, inplace=True)\n",
    "gdelt_v1_df['Date'] = pd.to_datetime(gdelt_v1_df['Date'])\n",
    "\n",
    "result_gdelt_v1 = gdelt_v1_df.groupby('Date').sum().reset_index()\n",
    "result_gdelt_v1['Date'] = pd.to_datetime(result_gdelt_v1['Date'], errors='coerce').dt.date\n",
    "\n",
    "# Define the date range scope\n",
    "start_date = pd.to_datetime('2018-01-01').date()  # Use .date() to match the format in 'Date' column\n",
    "end_date = pd.to_datetime('2023-12-31').date()\n",
    "all_dates = pd.date_range(start_date, end_date).date  # Convert to datetime.date for consistency\n",
    "\n",
    "# Convert 'Date' from datetime.date objects to Timestamps for reindexing\n",
    "result_gdelt_v1['Date'] = pd.to_datetime(result_gdelt_v1['Date'])\n",
    "result_gdelt_v1.set_index('Date', inplace=True)\n",
    "result_gdelt_v1 = result_gdelt_v1.reindex(pd.to_datetime(all_dates), fill_value=0)\n",
    "\n",
    "result_gdelt_v1.reset_index(inplace=True)\n",
    "result_gdelt_v1.rename(columns={'index': 'Date'}, inplace=True)\n",
    "# result_gdelt_v1['Date'] = result_gdelt_v1['Date'].dt.date  # Convert Timestamps back to dates\n",
    "result_gdelt_v1 = result_gdelt_v1.round(7)\n",
    "result_gdelt_v1.to_csv('E:/sp2023stock/TopicModeling/result/integrationOutput/Kim/gdelt_v2.csv', index=False)\n",
    "result_gdelt_v1\n"
   ]
  },
  {
   "cell_type": "code",
   "execution_count": 56,
   "id": "b6d57a86-48ee-4f8c-9e8b-4a7238f04241",
   "metadata": {},
   "outputs": [],
   "source": [
    "# Importing the necessary library\n",
    "import pandas as pd\n",
    "\n",
    "df = pd.read_csv('E:/sp2023stock/TopicModeling/result/gdelt/GDELT_V2.csv')\n",
    "\n",
    "# Converting the 'Topic' strings to lists of topics\n",
    "df['Topic'] = df['Topic'].apply(lambda x: x.split(', '))\n",
    "\n",
    "# Convert the DataFrame into a dictionary\n",
    "industry_topic_dict = df.set_index('Industry')['Topic'].to_dict()\n"
   ]
  },
  {
   "cell_type": "code",
   "execution_count": 57,
   "id": "adcc2928-8ddb-42dd-8fcb-3ceca09f9087",
   "metadata": {},
   "outputs": [],
   "source": [
    "import pandas as pd\n",
    "from io import StringIO\n",
    "\n",
    "# Read the data into a pandas DataFrame\n",
    "df = pd.read_csv('E:/sp2023stock/TopicModeling/result/integrationOutput/Kim/gdelt_v2.csv')\n",
    "\n",
    "# Count non-zero values for each column\n",
    "non_zero_counts = df.apply(lambda x: (x != 0).sum())\n"
   ]
  }
 ],
 "metadata": {
  "kernelspec": {
   "display_name": "Python 3 (ipykernel)",
   "language": "python",
   "name": "python3"
  },
  "language_info": {
   "codemirror_mode": {
    "name": "ipython",
    "version": 3
   },
   "file_extension": ".py",
   "mimetype": "text/x-python",
   "name": "python",
   "nbconvert_exporter": "python",
   "pygments_lexer": "ipython3",
   "version": "3.11.3"
  }
 },
 "nbformat": 4,
 "nbformat_minor": 5
}
