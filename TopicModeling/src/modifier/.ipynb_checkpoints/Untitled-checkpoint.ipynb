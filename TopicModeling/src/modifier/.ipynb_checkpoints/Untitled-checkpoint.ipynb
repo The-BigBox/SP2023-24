{
 "cells": [
  {
   "cell_type": "code",
   "execution_count": 5,
   "id": "9f03a0cd-e051-4aaa-93ee-aba5402b91ef",
   "metadata": {},
   "outputs": [],
   "source": [
    "import pandas as pd\n",
    "import os\n",
    "\n",
    "dateFile_p  = 'E:/sp2023stock/TopicModeling/data/rawDataset/news/dateonly.csv'\n",
    "TopdocFile_p =  'E:/sp2023stock/TopicModeling/result/modelOutput/document_topics.csv'\n",
    "labeled_topics_path = 'E:/sp2023stock/TopicModeling/result/modelOutput/labeled_topics.csv'"
   ]
  },
  {
   "cell_type": "markdown",
   "id": "c7af174e-6fba-4c65-a27e-58361c9d87f1",
   "metadata": {},
   "source": [
    "#### News LDA (KIM)"
   ]
  },
  {
   "cell_type": "code",
   "execution_count": 35,
   "id": "0829e205-8704-412f-9ca5-127df5dc10a8",
   "metadata": {},
   "outputs": [
    {
     "name": "stdout",
     "output_type": "stream",
     "text": [
      "Date File = 1156987, Data File = 1156987\n",
      " Merged data = 1156987\n"
     ]
    }
   ],
   "source": [
    "df1 = pd.read_csv(dateFile_p)\n",
    "df2 = pd.read_csv(TopdocFile_p)\n",
    "\n",
    "print(f\"Date File = {len(df1)}, Data File = {len(df2)}\")\n",
    "\n",
    "df_merged = pd.concat([df1, df2], axis=1)\n",
    "df_merged.drop(['ID', 'Agency'], axis=1, inplace=True)\n",
    "\n",
    "print(f\" Merged data = {len(df_merged)}\")"
   ]
  },
  {
   "cell_type": "code",
   "execution_count": 38,
   "id": "2c59dd17-7d17-40ae-8921-15dd4792fd89",
   "metadata": {},
   "outputs": [],
   "source": [
    "# Assuming 'result' is your DataFrame and you've already executed:\n",
    "result = df_merged.groupby('Date').sum().reset_index()\n",
    "result['Date'] = pd.to_datetime(result['Date']).dt.date\n",
    "\n",
    "start_date = pd.to_datetime('2015-03-01').date() \n",
    "end_date = pd.to_datetime('2023-12-31').date()\n",
    "\n",
    "# Generating a complete list of dateZZs within the defined range\n",
    "all_dates = pd.date_range(start_date, end_date).date  # Convert to datetime.date for consistency\n",
    "\n",
    "# Convert 'Date' from datetime.date objects to Timestamps for reindexing\n",
    "result['Date'] = pd.to_datetime(result['Date'])\n",
    "\n",
    "# Set 'Date' as index\n",
    "result.set_index('Date', inplace=True)\n",
    "\n",
    "# Reindex with the complete date range (convert all_dates to Timestamps to match index type)\n",
    "result = result.reindex(pd.to_datetime(all_dates), fill_value=0)\n",
    "\n",
    "\n",
    "result.reset_index(inplace=True)\n",
    "result.rename(columns={'index': 'Date'}, inplace=True)\n",
    "result['Date'] = result['Date'].dt.date  # Convert Timestamps back to dates\n",
    "result=result.round(8)\n",
    "result.to_csv('E:/sp2023stock/TopicModeling/result/integrationOutput/Mic/news.csv', index=False)\n"
   ]
  },
  {
   "cell_type": "markdown",
   "id": "add2df25-3267-475c-82cd-1f3089f4d334",
   "metadata": {},
   "source": [
    "##### Select top 10 value"
   ]
  },
  {
   "cell_type": "code",
   "execution_count": null,
   "id": "1ab046ef-94d1-4ce5-9266-de4ccba168a6",
   "metadata": {
    "scrolled": true
   },
   "outputs": [],
   "source": [
    "\n",
    "df = pd.read_csv('E:/sp2023stock/TopicModeling/result/integrationOutput/Kim/News.csv', nrows=5)\n",
    "topic_columns = [col for col in df.columns if col.startswith('Topic_')]\n",
    "\n",
    "for col in topic_columns:\n",
    "    df[col] = pd.to_numeric(df[col], errors='coerce')\n",
    "\n",
    "# Iterate over the DataFrame rows\n",
    "for index, row in df.iterrows():\n",
    "    # Get the topic columns for the current row, drop missing values, and find the indices of the top 3 values\n",
    "    top_values = row[topic_columns].dropna().nlargest(10)\n",
    "    top_indices = top_values.index\n",
    "    # Set all other values to 0\n",
    "    for col in topic_columns:\n",
    "        if col not in top_indices:\n",
    "            df.at[index, col] = 0\n"
   ]
  },
  {
   "cell_type": "markdown",
   "id": "f4999122-f65f-4d43-b53f-076acdef8fc7",
   "metadata": {},
   "source": [
    "##### LDA-400 Econ (Filtered)\n",
    "เลือกข่าวเฉพาะที่มี labeled topic มาใช้\n",
    "<br>\r\n",
    "โดยเลือกจาก topic ที่อยู่ใน top 10 ของข่าวนั้นๆ\r\n",
    "ตัวอย่าง -> 41245,Topic_1,Topic_91,Topic_142"
   ]
  },
  {
   "cell_type": "code",
   "execution_count": 6,
   "id": "559a9ee7-0871-4ddb-a1f4-4ef937c0e121",
   "metadata": {},
   "outputs": [],
   "source": [
    "import pandas as pd\n",
    "\n",
    "df = pd.read_csv(TopdocFile_p,nrows=5)\n",
    "datedf = pd.read_csv(dateFile_p,nrows=5)\n",
    "labeled_topics_df = pd.read_csv(labeled_topics_path)\n",
    "labeled_topics = labeled_topics_df ['Topic'].tolist()\n",
    "\n",
    "def find_top_3_topics(row):\n",
    "    top_3 = row.nlargest(10)\n",
    "    return pd.Series([top_3.index.tolist(), top_3.values.tolist()], index=['Top_3_Topics', 'Top_3_Values'])\n",
    "\n",
    "top_3_df = df.apply(find_top_3_topics, axis=1)\n",
    "max_top_topics = top_3_df['Top_3_Topics'].apply(len).max()\n",
    "dynamic_columns = [f'Top_{i+1}' for i in range(max_top_topics)]\n",
    "top_3_topics_df = pd.DataFrame(top_3_df['Top_3_Topics'].tolist(), columns=dynamic_columns)\n",
    "\n",
    "merged_result = pd.concat([datedf, top_3_topics_df], axis=1)\n",
    "filtered_topic = merged_result\n",
    "\n",
    "filtered_topic['ECON'] = filtered_topic.apply(lambda row: any(row.get(f'Top_{i}', None) in labeled_topics for i in range(1, 10)), axis=1)\n",
    "filtered_topic_result = filtered_topic[['ID', 'Agency', 'Date', 'ECON']]\n",
    "topic_with_filtered = pd.concat([filtered_topic_result, df], axis=1)\n",
    "\n",
    "#topic_with_filtered.to_csv('E:/sp2023stock/TopicModeling/result/integrationOutput/Kim/filtered_News.csv', index=False)\n",
    "topic_columns = [col for col in topic_with_filtered.columns if col.startswith('Topic_')]  # List your topic columns here\n",
    "topic_with_filtered.loc[topic_with_filtered['ECON'] == False, topic_columns] = 0\n",
    "\n",
    "topic_with_filtered.drop(['ECON','ID'], axis=1, inplace=True)\n",
    "\n",
    "####################################################################################\n",
    "df_merged = topic_with_filtered.copy()\n",
    "####################################################################################\n",
    "\n",
    "# Summarize topic distributions by Date\n",
    "\n",
    "#result = df_merged.groupby('Date').sum().reset_index()\n",
    "result = df_merged.groupby('Date').sum(numeric_only=True).reset_index()\n",
    "result['Date'] = pd.to_datetime(result['Date']).dt.date\n",
    "\n",
    "start_date = pd.to_datetime('2015-03-01').date() \n",
    "end_date = pd.to_datetime('2023-12-31').date()\n",
    "all_dates = pd.date_range(start_date, end_date).date  # Convert to datetime.date for consistency\n",
    "\n",
    "\n",
    "result['Date'] = pd.to_datetime(result['Date'])\n",
    "result.set_index('Date', inplace=True)\n",
    "result = result.reindex(pd.to_datetime(all_dates), fill_value=0)\n",
    "\n",
    "\n",
    "result.reset_index(inplace=True)\n",
    "result.rename(columns={'index': 'Date'}, inplace=True)\n",
    "result['Date'] = result['Date'].dt.date  # Convert Timestamps back to dates\n",
    "result=result.round(8)\n",
    "#result.to_csv('E:/sp2023stock/TopicModeling/result/integrationOutput/filtered_news.csv', index=False)\n"
   ]
  },
  {
   "cell_type": "code",
   "execution_count": 30,
   "id": "c32688dc-f2a3-41c8-9c8a-3110661683f5",
   "metadata": {},
   "outputs": [],
   "source": [
    "import pandas as pd\n",
    "\n",
    "df = pd.read_csv('E:/sp2023stock/TopicModeling/result/integrationOutput/Mic/filtered_news.csv')\n",
    "\n",
    "labeled_topics_df = pd.read_csv(labeled_topics_path)\n",
    "labeled_topics_list = labeled_topics_df ['Topic'].tolist()\n",
    "\n",
    "selected_columns = ['Date'] + [col for col in df.columns if col in labeled_topics_list]\n",
    "filtered_df = df[selected_columns]\n",
    "\n",
    "filtered_df.to_csv('E:/sp2023stock/TopicModeling/result/integrationOutput/Mic/filtered_news_selected.csv', index=False)\n"
   ]
  },
  {
   "cell_type": "code",
   "execution_count": 63,
   "id": "adb4aa8d-d7fb-4b57-a85d-f7e1929e6405",
   "metadata": {},
   "outputs": [],
   "source": [
    "import pandas as pd\n",
    "\n",
    "df = pd.read_csv('E:/sp2023stock/TopicModeling/result/integrationOutput/Mic/news.csv')\n",
    "\n",
    "labeled_topics_df = pd.read_csv(labeled_topics_path)\n",
    "labeled_topics_list = labeled_topics_df ['Topic'].tolist()\n",
    "\n",
    "selected_columns = ['Date'] + [col for col in df.columns if col in labeled_topics_list]\n",
    "filtered_df = df[selected_columns]\n",
    "\n",
    "filtered_df.to_csv('E:/sp2023stock/TopicModeling/result/integrationOutput/Mic/news_selected.csv', index=False)\n"
   ]
  },
  {
   "cell_type": "code",
   "execution_count": 68,
   "id": "a24d7449-d493-4153-ba87-b930ee5816f5",
   "metadata": {},
   "outputs": [],
   "source": [
    "import pandas as pd\n",
    "\n",
    "df = pd.read_csv('E:/sp2023stock/TopicModeling/result/modelOutput/document_topics.csv',nrows=500)\n",
    "labeled_topics_list =  [\n",
    "'Topic_19',\n",
    "'Topic_125',\n",
    "'Topic_251',\n",
    "'Topic_298',\n",
    "'Topic_367']\n",
    "\n",
    "selected_columns = [col for col in df.columns if col in labeled_topics_list]\n",
    "filtered_df = df[selected_columns]\n",
    "filtered_df.to_csv('E:/sp2023stock/TopicModeling/result/integrationOutput/for_doc.csv', index=False,float_format='%.8f')\n"
   ]
  },
  {
   "cell_type": "code",
   "execution_count": 32,
   "id": "e45c8cec-8e97-4541-b5f0-0d21eb135cac",
   "metadata": {},
   "outputs": [
    {
     "name": "stdout",
     "output_type": "stream",
     "text": [
      "Finished\n"
     ]
    }
   ],
   "source": [
    "print(\"Finished\")"
   ]
  },
  {
   "cell_type": "markdown",
   "id": "97e217a9-0441-497b-8fd5-bb663bb9e083",
   "metadata": {},
   "source": [
    "#### Twitter LDA"
   ]
  },
  {
   "cell_type": "code",
   "execution_count": null,
   "id": "d18a857c-2bb6-46ac-ac50-af79fefcbe30",
   "metadata": {},
   "outputs": [],
   "source": [
    "import pandas as pd\n",
    "import os\n",
    "raw_twitter = 'E:/sp2023stock/TopicModeling/data/twitter/topic_prob.xlsx'\n",
    "df_raw_twitter = pd.read_excel(raw_twitter)\n",
    "len(df_raw_twitter)"
   ]
  },
  {
   "cell_type": "code",
   "execution_count": null,
   "id": "fa2eaec4-92ac-4e79-a228-dc51a5a7e4d4",
   "metadata": {},
   "outputs": [],
   "source": [
    "info_twitter = 'E:/sp2023stock/TopicModeling/data/twitter/CleanTwitterData.parquet'\n",
    "df_info_twitter = pd.read_parquet(info_twitter)\n",
    "df_info_twitter.drop(['author_id',\n",
    " 'edit_history_tweet_ids',\n",
    " 'id',\n",
    " 'text',\n",
    " 'aspect',\n",
    " 'clean text',\n",
    " 'economic_topic',\n",
    " 'clean_neg',\n",
    " 'clean_neu',\n",
    " 'clean_pos',\n",
    " 'clean_q',\n",
    " 'clean_preds'], axis=1, inplace=True)\n",
    "df_info_twitter"
   ]
  },
  {
   "cell_type": "code",
   "execution_count": null,
   "id": "9c060127-7ff6-4670-be4f-c0f21e747fef",
   "metadata": {},
   "outputs": [],
   "source": [
    "import pandas as pd\n",
    "\n",
    "# Convert 'created_at' to datetime\n",
    "df_info_twitter['created_at'] = pd.to_datetime(df_info_twitter['created_at'])\n",
    "# Option 1: Extract just the date part as a datetime.date object\n",
    "df_info_twitter['date_only'] = df_info_twitter['created_at'].dt.date\n",
    "df_info_twitter['date_only']\n"
   ]
  },
  {
   "cell_type": "code",
   "execution_count": null,
   "id": "d3eb9d5d-98bd-4bbd-8a09-939998138a3e",
   "metadata": {
    "scrolled": true
   },
   "outputs": [],
   "source": [
    "twitter_merged_result = pd.concat([df_info_twitter['date_only'],df_raw_twitter], axis=1)\n",
    "twitter_merged_result.drop('tweet_id', axis=1, inplace=True)\n",
    "twitter_merged_result.rename(columns={'date_only': 'Date'}, inplace=True)\n",
    "twitter_merged_result"
   ]
  },
  {
   "cell_type": "code",
   "execution_count": null,
   "id": "0f7af2b8-ca34-456f-a518-ad7f332fb847",
   "metadata": {},
   "outputs": [],
   "source": [
    "# Assuming 'result' is your DataFrame and you've already executed:\n",
    "result_twitter = twitter_merged_result.groupby('Date').sum().reset_index()\n",
    "result_twitter['Date'] = pd.to_datetime(result_twitter['Date']).dt.date\n",
    "\n",
    "# Define the date range scope\n",
    "start_date = pd.to_datetime('2018-01-01').date()  # Use .date() to match the format in 'Date' column\n",
    "end_date = pd.to_datetime('2023-12-31').date()\n",
    "\n",
    "# Generating a complete list of dates within the defined range\n",
    "all_dates = pd.date_range(start_date, end_date).date  # Convert to datetime.date for consistency\n",
    "\n",
    "# Convert 'Date' from datetime.date objects to Timestamps for reindexing\n",
    "result_twitter['Date'] = pd.to_datetime(result_twitter['Date'])\n",
    "\n",
    "result_twitter.set_index('Date', inplace=True)\n",
    "\n",
    "result_twitter = result_twitter.reindex(pd.to_datetime(all_dates), fill_value=0)\n",
    "\n",
    "result_twitter.reset_index(inplace=True)\n",
    "result_twitter.rename(columns={'index': 'Date'}, inplace=True)\n",
    "result_twitter['Date'] = result_twitter['Date'].dt.date  # Convert Timestamps back to dates\n",
    "result_twitter=result_twitter.round(8)\n",
    "result_twitter.to_csv('E:/sp2023stock/TopicModeling/result/integrationOutput/Kim/Twitter.csv', index=False)"
   ]
  },
  {
   "cell_type": "markdown",
   "id": "6e4c691b-e7dc-4668-ae23-d4124e59a354",
   "metadata": {},
   "source": [
    "##### GDELT"
   ]
  },
  {
   "cell_type": "code",
   "execution_count": null,
   "id": "813f472f-e7c9-4a5e-b735-f7b9855b2832",
   "metadata": {},
   "outputs": [],
   "source": [
    "import pandas as pd\n",
    "\n",
    "# Path to your CSV file\n",
    "csv_file_path = 'E:/sp2023stock/TopicModeling/data/GDELT/GDELT2.csv'\n",
    "gdelt_v1_df = pd.read_csv(csv_file_path)\n",
    "\n",
    "gdelt_v1_df['Date'] = pd.to_datetime(gdelt_v1_df['Date'], format='%Y%m%d')\n",
    "# Convert back to a string in the new format\n",
    "gdelt_v1_df['Date'] = gdelt_v1_df['Date'].dt.strftime('%Y-%m-%d')\n",
    "gdelt_v1_df.fillna(0, inplace=True)\n",
    "gdelt_v1_df['Date'] = pd.to_datetime(gdelt_v1_df['Date'])\n",
    "\n",
    "result_gdelt_v1 = gdelt_v1_df.groupby('Date').sum().reset_index()\n",
    "result_gdelt_v1['Date'] = pd.to_datetime(result_gdelt_v1['Date'], errors='coerce').dt.date\n",
    "\n",
    "# Define the date range scope\n",
    "start_date = pd.to_datetime('2018-01-01').date()  # Use .date() to match the format in 'Date' column\n",
    "end_date = pd.to_datetime('2023-12-31').date()\n",
    "all_dates = pd.date_range(start_date, end_date).date  # Convert to datetime.date for consistency\n",
    "\n",
    "# Convert 'Date' from datetime.date objects to Timestamps for reindexing\n",
    "result_gdelt_v1['Date'] = pd.to_datetime(result_gdelt_v1['Date'])\n",
    "result_gdelt_v1.set_index('Date', inplace=True)\n",
    "result_gdelt_v1 = result_gdelt_v1.reindex(pd.to_datetime(all_dates), fill_value=0)\n",
    "\n",
    "result_gdelt_v1.reset_index(inplace=True)\n",
    "result_gdelt_v1.rename(columns={'index': 'Date'}, inplace=True)\n",
    "# result_gdelt_v1['Date'] = result_gdelt_v1['Date'].dt.date  # Convert Timestamps back to dates\n",
    "result_gdelt_v1 = result_gdelt_v1.round(7)\n",
    "result_gdelt_v1.to_csv('E:/sp2023stock/TopicModeling/result/integrationOutput/Kim/gdelt_v2.csv', index=False)\n",
    "result_gdelt_v1\n"
   ]
  },
  {
   "cell_type": "code",
   "execution_count": 56,
   "id": "b6d57a86-48ee-4f8c-9e8b-4a7238f04241",
   "metadata": {},
   "outputs": [],
   "source": [
    "# Importing the necessary library\n",
    "import pandas as pd\n",
    "\n",
    "df = pd.read_csv('E:/sp2023stock/TopicModeling/result/gdelt/GDELT_V2.csv')\n",
    "\n",
    "# Converting the 'Topic' strings to lists of topics\n",
    "df['Topic'] = df['Topic'].apply(lambda x: x.split(', '))\n",
    "\n",
    "# Convert the DataFrame into a dictionary\n",
    "industry_topic_dict = df.set_index('Industry')['Topic'].to_dict()\n"
   ]
  },
  {
   "cell_type": "code",
   "execution_count": 57,
   "id": "adcc2928-8ddb-42dd-8fcb-3ceca09f9087",
   "metadata": {},
   "outputs": [],
   "source": [
    "import pandas as pd\n",
    "from io import StringIO\n",
    "\n",
    "# Read the data into a pandas DataFrame\n",
    "df = pd.read_csv('E:/sp2023stock/TopicModeling/result/integrationOutput/Kim/gdelt_v2.csv')\n",
    "\n",
    "# Count non-zero values for each column\n",
    "non_zero_counts = df.apply(lambda x: (x != 0).sum())\n"
   ]
  },
  {
   "cell_type": "code",
   "execution_count": 55,
   "id": "c9343a5c-a30e-4a15-b07c-0c5a519263f5",
   "metadata": {},
   "outputs": [
    {
     "name": "stdout",
     "output_type": "stream",
     "text": [
      "AGRO: 2058\n",
      "FINCIAL: 5475\n",
      "INDUS: 838\n",
      "PROPCON: 4640\n",
      "RESOURC: 2224\n",
      "SERVICE: 1498\n",
      "TECH: 1813\n"
     ]
    }
   ],
   "source": [
    "# V.1\n",
    "\n",
    "industry_counts = {industry: 0 for industry in industry_topic_dict}\n",
    "\n",
    "# Iterate over the industry_topic_dict and sum the non-zero counts for each industry\n",
    "for industry, topics in industry_topic_dict.items():\n",
    "    for topic in topics:\n",
    "        if topic in non_zero_counts.index:\n",
    "            industry_counts[industry] += non_zero_counts[topic]\n",
    "\n",
    "# Print the total non-zero counts for each industry\n",
    "for industry, count in industry_counts.items():\n",
    "    print(f\"{industry}: {count}\")"
   ]
  },
  {
   "cell_type": "code",
   "execution_count": 58,
   "id": "a5ce9e9c-179a-40d0-823c-fb2d59734a30",
   "metadata": {},
   "outputs": [
    {
     "name": "stdout",
     "output_type": "stream",
     "text": [
      "AGRO: 3271\n",
      "FINCIAL: 10425\n",
      "INDUS: 4909\n",
      "PROPCON: 4312\n",
      "RESOURC: 3531\n",
      "SERVICE: 5088\n",
      "TECH: 1279\n"
     ]
    }
   ],
   "source": [
    "# V.2\n",
    "\n",
    "industry_counts = {industry: 0 for industry in industry_topic_dict}\n",
    "\n",
    "# Iterate over the industry_topic_dict and sum the non-zero counts for each industry\n",
    "for industry, topics in industry_topic_dict.items():\n",
    "    for topic in topics:\n",
    "        if topic in non_zero_counts.index:\n",
    "            industry_counts[industry] += non_zero_counts[topic]\n",
    "\n",
    "# Print the total non-zero counts for each industry\n",
    "for industry, count in industry_counts.items():\n",
    "    print(f\"{industry}: {count}\")"
   ]
  },
  {
   "cell_type": "code",
   "execution_count": null,
   "id": "6b5b3446-c42b-4507-9c8f-e919fb705551",
   "metadata": {},
   "outputs": [],
   "source": []
  }
 ],
 "metadata": {
  "kernelspec": {
   "display_name": "Python 3 (ipykernel)",
   "language": "python",
   "name": "python3"
  },
  "language_info": {
   "codemirror_mode": {
    "name": "ipython",
    "version": 3
   },
   "file_extension": ".py",
   "mimetype": "text/x-python",
   "name": "python",
   "nbconvert_exporter": "python",
   "pygments_lexer": "ipython3",
   "version": "3.11.3"
  }
 },
 "nbformat": 4,
 "nbformat_minor": 5
}
